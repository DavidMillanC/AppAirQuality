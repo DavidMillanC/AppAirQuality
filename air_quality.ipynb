{
 "cells": [
  {
   "cell_type": "code",
   "execution_count": 3,
   "metadata": {},
   "outputs": [],
   "source": [
    "#Para esta actividad se importarán las siguientes librerías:\n",
    "import pandas as pd\n",
    "from pandas_profiling import ProfileReport\n",
    "from IPython.display import IFrame\n",
    "import matplotlib\n",
    "#matplotlib.use('TkAgg')\n",
    "import matplotlib.pyplot as plt\n",
    "\n",
    "import category_encoders as ce\n",
    "\n",
    "from sklearn.model_selection import train_test_split\n",
    "from sklearn.tree import DecisionTreeClassifier\n",
    "from sklearn.ensemble import RandomForestClassifier\n",
    "\n",
    "from sklearn import datasets\n",
    "from sklearn import metrics\n",
    "from sklearn.metrics import accuracy_score\n",
    "from sklearn.metrics import classification_report\n",
    "from sklearn.metrics import confusion_matrix\n",
    "import seaborn as sns\n",
    "from sklearn.model_selection import StratifiedKFold\n",
    "from sklearn.model_selection import cross_val_score\n",
    "%matplotlib inline\n",
    "from sklearn.metrics import confusion_matrix as cm\n",
    "from sklearn.metrics import ConfusionMatrixDisplay as cm_mostrar"
   ]
  },
  {
   "cell_type": "code",
   "execution_count": 20,
   "metadata": {},
   "outputs": [
    {
     "name": "stdout",
     "output_type": "stream",
     "text": [
      "---------------------------------------------------------------------\n",
      "Información del conjunto de datos\n",
      "---------------------------------------------------------------------\n",
      "                 A            B            C            D            E\n",
      "count  3787.000000  3787.000000  3787.000000  3787.000000  3787.000000\n",
      "mean      1.001982     0.018184     0.019268    96.150820    20.845877\n",
      "std       0.860346     0.009354     0.015717    58.035761    28.069301\n",
      "min       0.030000     0.000450     0.001000     7.790000     0.000000\n",
      "25%       0.460500     0.011650     0.005770    58.348000    13.945000\n",
      "50%       0.741000     0.016930     0.016070    80.560000    17.208000\n",
      "75%       1.245000     0.023220     0.028000   114.675000    21.745000\n",
      "max       7.740000     0.067380     0.093030   567.760000   499.790000 \n",
      "\n",
      "<class 'pandas.core.frame.DataFrame'>\n",
      "RangeIndex: 3787 entries, 0 to 3786\n",
      "Data columns (total 6 columns):\n",
      " #   Column  Non-Null Count  Dtype  \n",
      "---  ------  --------------  -----  \n",
      " 0   A       3787 non-null   float64\n",
      " 1   B       3787 non-null   float64\n",
      " 2   C       3787 non-null   float64\n",
      " 3   D       3787 non-null   float64\n",
      " 4   E       3787 non-null   float64\n",
      " 5   Estado  3787 non-null   object \n",
      "dtypes: float64(5), object(1)\n",
      "memory usage: 177.6+ KB\n"
     ]
    },
    {
     "name": "stderr",
     "output_type": "stream",
     "text": [
      "C:\\Users\\david\\AppData\\Local\\Packages\\PythonSoftwareFoundation.Python.3.7_qbz5n2kfra8p0\\LocalCache\\local-packages\\Python37\\site-packages\\openpyxl\\worksheet\\_reader.py:312: UserWarning: Unknown extension is not supported and will be removed\n",
      "  warn(msg)\n"
     ]
    }
   ],
   "source": [
    "data = pd.read_excel(\"./dataset_air_quality.xlsx\")\n",
    "print(\"---------------------------------------------------------------------\")\n",
    "print(\"Información del conjunto de datos\")\n",
    "print(\"---------------------------------------------------------------------\")\n",
    "#El método describe(), permite obtener una descripción de los datos que vamos a trabajar.\n",
    "print(data.describe(),\"\\n\")\n",
    "#El info(), imprime información sobre el dataset, incluidos columnas, cantidad de valores no nulos, tipo de dato y el uso de memoria. \n",
    "data.info()"
   ]
  },
  {
   "cell_type": "code",
   "execution_count": 21,
   "metadata": {},
   "outputs": [
    {
     "name": "stdout",
     "output_type": "stream",
     "text": [
      "---------------------------------------------------------------------\n",
      "Caracterización del conjunto de datos (dataset)\n",
      "---------------------------------------------------------------------\n",
      "1. Las clases de la variable objetivo son:\n",
      "\n",
      " ['moderada' 'dañina a la salud para grupos sensibles' 'dañina a la salud'\n",
      " 'peligrosa' 'muy dañina a la salud' 'buena' 'fatal'] \n",
      "\n",
      "2. El número de clases de la variable objetivo es: 7 \n",
      "\n",
      "2.1. Representación y tipo de valor (variable objetivo):\n",
      "\n",
      "                                     Clases  N. de instancias  Tipo de valor\n",
      "0                                 moderada              3013  <class 'str'>\n",
      "1  dañina a la salud para grupos sensibles               489  <class 'str'>\n",
      "2                                    buena               136  <class 'str'>\n",
      "3                        dañina a la salud               121  <class 'str'>\n",
      "4                                    fatal                14  <class 'str'>\n",
      "5                    muy dañina a la salud                 9  <class 'str'>\n",
      "6                                peligrosa                 5  <class 'str'> \n",
      "\n",
      "3. El número de instancias en total del datset cargado es: 3787 \n",
      "\n",
      "4. Número de instancias de cada clase de la variable la objetivo:\n",
      "\n",
      "                                    Clases  N. de instancias\n",
      "0                                 moderada              3013\n",
      "1  dañina a la salud para grupos sensibles               489\n",
      "2                                    buena               136\n",
      "3                        dañina a la salud               121\n",
      "4                                    fatal                14\n",
      "5                    muy dañina a la salud                 9\n",
      "6                                peligrosa                 5 \n",
      "\n",
      "5. El número total de atributos de entrada es: 5 \n",
      "\n",
      "5.1. Representación y tipo de valor (vaiables entrada):\n",
      "\n",
      "   Atributo Representación            Tipo de valor\n",
      "0        A             CO  <class 'numpy.float64'>\n",
      "1        B            NO2  <class 'numpy.float64'>\n",
      "2        C             O3  <class 'numpy.float64'>\n",
      "3        D           PM10  <class 'numpy.float64'>\n",
      "4        E          PM2_5  <class 'numpy.float64'> \n",
      "\n",
      "6. No se muestran valores faltantes para ninguna de las variables:\n",
      "A         0\n",
      "B         0\n",
      "C         0\n",
      "D         0\n",
      "E         0\n",
      "Estado    0\n",
      "dtype: int64\n",
      "\n",
      "7. Gráfica N.instancias de cada clase de la variable la objetivo:\n",
      "\n"
     ]
    },
    {
     "data": {
      "image/png": "[encoded data removed]",
      "text/plain": [
       "<Figure size 640x480 with 1 Axes>"
      ]
     },
     "metadata": {},
     "output_type": "display_data"
    }
   ],
   "source": [
    "#Número de clases de la variable objetivo, con su representación y el tipo de valor que toman.\n",
    "print(\"---------------------------------------------------------------------\")\n",
    "print(\"Caracterización del conjunto de datos (dataset)\")\n",
    "print(\"---------------------------------------------------------------------\")\n",
    "print(\"1. Las clases de la variable objetivo son:\\n\\n\",data['Estado'].unique(),\"\\n\")\n",
    "variableOb = data['Estado'].value_counts()\n",
    "print(\"2. El número de clases de la variable objetivo es: {} \\n\".format(len(variableOb)))\n",
    "lista = list(variableOb.keys())\n",
    "\n",
    "df = pd.DataFrame([[lista[0], variableOb[0], type(lista[0])],\n",
    "                  [lista[1], variableOb[1], type(lista[1])],\n",
    "                  [lista[2], variableOb[2], type(lista[2])],\n",
    "                  [lista[3], variableOb[3], type(lista[3])],\n",
    "                  [lista[4], variableOb[4], type(lista[4])],\n",
    "                  [lista[5], variableOb[5], type(lista[5])],\n",
    "                  [lista[6], variableOb[6], type(lista[6])]],\n",
    "                  columns = [\"Clases\", \"N. de instancias\", \"Tipo de valor\"])\n",
    "print(\"2.1. Representación y tipo de valor (variable objetivo):\\n\\n\",df,\"\\n\")\n",
    "\n",
    "# Número de instancias en total. La función Shape me devuelve una tupla con la cantidad de filas y columnas (x,y), solo escogeré \"x\" que se interpeta por instancias del conjunto de datos\n",
    "print(\"3. El número de instancias en total del datset cargado es:\",data.shape[0],\"\\n\")\n",
    "\n",
    "#Número de instancias pertenecientes a cada clase\n",
    "print(\"4. Número de instancias de cada clase de la variable la objetivo:\\n\")\n",
    "df2 = pd.DataFrame([[lista[0], variableOb[0]],\n",
    "                   [lista[1], variableOb[1]],\n",
    "                   [lista[2], variableOb[2]],\n",
    "                   [lista[3], variableOb[3]],\n",
    "                   [lista[4], variableOb[4]],\n",
    "                   [lista[5], variableOb[5]],\n",
    "                   [lista[6], variableOb[6]]],\n",
    "                    columns = [\"Clases\", \"N. de instancias\"])\n",
    "print(df2,\"\\n\")\n",
    "\n",
    "# Número de atributos de entrada con su representación y tipo de valor que toman.\n",
    "print(\"5. El número total de atributos de entrada es: {}\".format(data.columns.value_counts().sum() - 1),\"\\n\")\n",
    "df3 = pd.DataFrame(\n",
    "    [[data.columns[0], \"CO\", type(data[data.columns[0]][0])],\n",
    "    [data.columns[1], \"NO2\", type(data[data.columns[1]][0])],\n",
    "    [data.columns[2], \"O3\", type(data[data.columns[2]][0])],\n",
    "    [data.columns[3], \"PM10\", type(data[data.columns[3]][0])],\n",
    "    [data.columns[4], \"PM2_5\", type(data[data.columns[4]][0])]],\n",
    "    columns = [\"Atributo\", \"Representación\", \"Tipo de valor\"])\n",
    "print(\"5.1. Representación y tipo de valor (vaiables entrada):\\n\\n\",df3,\"\\n\")\n",
    "\n",
    "#Me devuelve el total de valores faltantes en cada variable del conjunto de datos o dataset si es que los tuviere\n",
    "print(\"6. No se muestran valores faltantes para ninguna de las variables:\")\n",
    "print(data.isnull().sum())\n",
    "\n",
    "# Visualizar un gráfico de barras de la variable class\n",
    "data.groupby(\"Estado\")[\"Estado\"].count().plot(kind=\"barh\")\n",
    "print(\"\\n7. Gráfica N.instancias de cada clase de la variable la objetivo:\\n\")\n",
    "plt.show()"
   ]
  },
  {
   "cell_type": "code",
   "execution_count": 22,
   "metadata": {},
   "outputs": [],
   "source": [
    "# Seleccion de variables de entrenamiento y prueba\n",
    "X_train, X_test, y_train, y_test = train_test_split(data.drop(labels=[\"Estado\", ], axis=1),data[\"Estado\"], test_size=0.20, random_state=1, shuffle=True)"
   ]
  },
  {
   "cell_type": "code",
   "execution_count": 23,
   "metadata": {},
   "outputs": [],
   "source": [
    "#Código de ajuste del modelo Decision Tree Classifier\n",
    "dtc = DecisionTreeClassifier(criterion = 'gini', max_depth = 70)\n",
    "dtc.fit(X_train, y_train)\n",
    "\n",
    "# Realizamos predicciones\n",
    "predicted_dtc = dtc.predict(X_test)"
   ]
  },
  {
   "cell_type": "code",
   "execution_count": 25,
   "metadata": {},
   "outputs": [
    {
     "name": "stdout",
     "output_type": "stream",
     "text": [
      "---------------------------------------------------------------------\n",
      "Algoritmo de clasificación implementado: Decision Tree Classifier\n",
      "---------------------------------------------------------------------\n",
      "\n",
      "1. Puntaje de precisión con DTC, porcentaje de instancias clasificadas correctamente: 99.4723 \n",
      "\n",
      "2. Puntaje de precisión con DTC, porcentaje de instancias clasificadas incorrectamente: 0.5277 \n",
      "\n",
      "3. Cálculo de tasa de falsos positivos (FP Rate):\n",
      "\n",
      "   FP Rate para clase acc: 0.0\n",
      "   FP Rate para clase good: 0.0\n",
      "   FP Rate para clase unacc: 0.0\n",
      "   FP Rate para clase unacc: 0.0075\n",
      "\n",
      "3. Matriz de confusión para DTC:\n",
      "\n",
      "[[ 26   0   0   0   1   0   0]\n",
      " [  0  26   0   0   0   0   0]\n",
      " [  0   0  81   0   0   0   0]\n",
      " [  0   0   0   2   0   0   0]\n",
      " [  2   0   0   0 617   0   0]\n",
      " [  0   0   0   0   0   2   0]\n",
      " [  0   0   0   1   0   0   0]] \n",
      "\n"
     ]
    }
   ],
   "source": [
    "#Código para mostrar la evaluación del modelo Decision Tree Classifier\n",
    "print(\"---------------------------------------------------------------------\")\n",
    "print(\"Algoritmo de clasificación implementado: Decision Tree Classifier\")\n",
    "print(\"---------------------------------------------------------------------\\n\")\n",
    "mostrar1 = round(100 * metrics.accuracy_score(y_test, predicted_dtc),7)\n",
    "print (\"1. Puntaje de precisión con DTC, porcentaje de instancias clasificadas correctamente:\",mostrar1,\"\\n\")\n",
    "print (\"2. Puntaje de precisión con DTC, porcentaje de instancias clasificadas incorrectamente: {}\".format(round(100 - mostrar1, 7)),\"\\n\")\n",
    "print (\"3. Cálculo de tasa de falsos positivos (FP Rate):\\n\")\n",
    "matrizc_1 = metrics.confusion_matrix(y_test,predicted_dtc)\n",
    "\n",
    "fpr_1 = round(matrizc_1[1][0] / (matrizc_1[1][0] + matrizc_1[1][1] + matrizc_1[1][2]+ matrizc_1[1][3] + matrizc_1[1][1][4] + matrizc_1[1][1][5] + matrizc_1[1][1][6]+\n",
    "                                 matrizc_1[2][0] + matrizc_1[2][1] + matrizc_1[2][2]+ matrizc_1[2][3] + matrizc_1[2][4] + matrizc_1[2][5] + matrizc_1[2][6] +\n",
    "                                 matrizc_1[3][0] + matrizc_1[3][1] + matrizc_1[3][2]+ matrizc_1[3][3] + matrizc_1[3][4] + matrizc_1[3][5] + matrizc_1[3][6] +\n",
    "                                 matrizc_1[4][0] + matrizc_1[4][1] + matrizc_1[4][2]+ matrizc_1[4][3] + matrizc_1[4][4] + matrizc_1[4][5] + matrizc_1[4][6] +\n",
    "                                 matrizc_1[5][0] + matrizc_1[5][1] + matrizc_1[5][2]+ matrizc_1[5][3] + matrizc_1[5][4] + matrizc_1[5][5] + matrizc_1[5][6] +\n",
    "                                 matrizc_1[6][0] + matrizc_1[6][1] + matrizc_1[6][2]+ matrizc_1[6][3] + matrizc_1[6][4] + matrizc_1[6][5] + matrizc_1[6][6] ),7)\n",
    "print(\"   FP Rate para clase acc:\",fpr_1)\n",
    "fpr_2 = round(matrizc_1[2][0] / (matrizc_1[2][0] + matrizc_1[2][1] + matrizc_1[2][2]+ matrizc_1[2][3] +\n",
    "                                 matrizc_1[3][0] + matrizc_1[3][1] + matrizc_1[3][2]+ matrizc_1[3][3] +\n",
    "                                 matrizc_1[0][0] + matrizc_1[0][1] + matrizc_1[0][2]+ matrizc_1[0][3]),4)\n",
    "print(\"   FP Rate para clase good:\",fpr_2)\n",
    "fpr_unacc1 = round(matrizc_1[3][0] / (matrizc_1[3][0] + matrizc_1[3][1] + matrizc_1[3][2]+ matrizc_1[3][3] +\n",
    "                                 matrizc_1[0][0] + matrizc_1[0][1] + matrizc_1[0][2]+ matrizc_1[0][3] +\n",
    "                                 matrizc_1[1][0] + matrizc_1[1][1] + matrizc_1[1][2]+ matrizc_1[1][3]),4)\n",
    "print(\"   FP Rate para clase unacc:\",fpr_unacc1)\n",
    "fpr_vgood1 = round(1 / (matrizc_1[0][0] + matrizc_1[0][1] + matrizc_1[0][2]+ matrizc_1[0][3] +\n",
    "                                 matrizc_1[1][0] + matrizc_1[1][1] + matrizc_1[1][2]+ matrizc_1[1][3] +\n",
    "                                 matrizc_1[2][0] + matrizc_1[2][1] + matrizc_1[2][2]+ matrizc_1[2][3]),4)\n",
    "print(\"   FP Rate para clase unacc:\",fpr_vgood1)\n",
    "print(\"\\n3. Matriz de confusión para DTC:\\n\")\n",
    "print(format(matrizc_1),\"\\n\")"
   ]
  },
  {
   "cell_type": "code",
   "execution_count": 42,
   "metadata": {},
   "outputs": [
    {
     "name": "stdout",
     "output_type": "stream",
     "text": [
      "      CO    NO2    O3    PM10   PM2_5\n",
      "0  0.732  0.024  0.01  76.012  498.57\n",
      "MODELO DECISION TREE CLASSIFIER / ESTADO DEL AIRE: fatal\n",
      "MODELO RANDOM FOREST CLASSIFIER / ESTADO DEL AIRE: fatal\n"
     ]
    },
    {
     "name": "stderr",
     "output_type": "stream",
     "text": [
      "C:\\Users\\david\\AppData\\Local\\Packages\\PythonSoftwareFoundation.Python.3.7_qbz5n2kfra8p0\\LocalCache\\local-packages\\Python37\\site-packages\\sklearn\\base.py:451: UserWarning: X does not have valid feature names, but DecisionTreeClassifier was fitted with feature names\n",
      "  \"X does not have valid feature names, but\"\n",
      "C:\\Users\\david\\AppData\\Local\\Packages\\PythonSoftwareFoundation.Python.3.7_qbz5n2kfra8p0\\LocalCache\\local-packages\\Python37\\site-packages\\sklearn\\base.py:451: UserWarning: X does not have valid feature names, but RandomForestClassifier was fitted with feature names\n",
      "  \"X does not have valid feature names, but\"\n"
     ]
    }
   ],
   "source": [
    "#df= pd.DataFrame([{\"CO\":0.341935486,\"NO2\":2.061290264,\"O3\":0,\"PM10\":7,\"PM2_5\":7}]) \n",
    "#df= pd.DataFrame([{\"CO\":1.773,\"NO2\":0.02617,\"O3\":0.00342,\"PM10\":109.9,\"PM2_5\":25.626}])\n",
    "#df= pd.DataFrame([{\"CO\":1.751,\"NO2\":0.02195,\"O3\":0.00392,\"PM10\":165.4,\"PM2_5\":28.443}])\n",
    "df= pd.DataFrame([{\"CO\":0.732,\"NO2\":0.024,\"O3\":0.01,\"PM10\":76.012,\"PM2_5\":498.57}])\n",
    "\n",
    "print(df)\n",
    "resultado_dtc = dtc.predict(df.values)\n",
    "print (\"MODELO DECISION TREE CLASSIFIER / ESTADO DEL AIRE: \"+resultado_dtc[0])\n"
   ]
  },
  {
   "cell_type": "code",
   "execution_count": null,
   "metadata": {},
   "outputs": [],
   "source": [
    "#Clasificación de los datos con el Modelo Decision Tree Classifier\n",
    "def brain(data_classify):\n",
    "    df = pd.DataFrame(data_classify)\n",
    "    response = dtc.predict(df.values)\n",
    "    return response[0]"
   ]
  }
 ],
 "metadata": {
  "kernelspec": {
   "display_name": "Python 3",
   "language": "python",
   "name": "python3"
  },
  "language_info": {
   "codemirror_mode": {
    "name": "ipython",
    "version": 3
   },
   "file_extension": ".py",
   "mimetype": "text/x-python",
   "name": "python",
   "nbconvert_exporter": "python",
   "pygments_lexer": "ipython3",
   "version": "3.7.9 (tags/v3.7.9:13c94747c7, Aug 17 2020, 16:30:00) [MSC v.1900 64 bit (AMD64)]"
  },
  "orig_nbformat": 4,
  "vscode": {
   "interpreter": {
    "hash": "01bbf93028ec131223bb48b6541168a1f804fb4415ee40b19df97724cf2b7989"
   }
  }
 },
 "nbformat": 4,
 "nbformat_minor": 2
}
